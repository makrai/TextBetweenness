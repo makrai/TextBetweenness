{
 "cells": [
  {
   "cell_type": "markdown",
   "metadata": {},
   "source": [
    "## HITS"
   ]
  },
  {
   "cell_type": "code",
   "execution_count": 1,
   "metadata": {},
   "outputs": [
    {
     "name": "stdout",
     "output_type": "stream",
     "text": [
      "Populating the interactive namespace from numpy and matplotlib\n"
     ]
    }
   ],
   "source": [
    "from collections import defaultdict\n",
    "import logging\n",
    "logging.basicConfig(level=logging.DEBUG, format=\"%(asctime)s: (%(lineno)s) %(levelname)s %(message)s\")\n",
    "import operator\n",
    "import re\n",
    "\n",
    "%matplotlib inline\n",
    "import matplotlib.pyplot as plt\n",
    "%pylab inline\n",
    "pylab.rcParams['figure.figsize'] = (15, 6)\n",
    "\n",
    "import networkx as nx\n",
    "from networkx.algorithms import community"
   ]
  },
  {
   "cell_type": "code",
   "execution_count": 3,
   "metadata": {},
   "outputs": [],
   "source": [
    "def sort_by_value(dict_):\n",
    "    return sorted(dict_.items(), key=operator.itemgetter(1), reverse=True)\n",
    "\n",
    "\n",
    "def head(dict_):\n",
    "    items = sort_by_value(dict_)[10:5000]\n",
    "    keys, _ = zip(*items)\n",
    "    return keys, dict(items)\n",
    "\n",
    "\n",
    "def read_pos_dict():\n",
    "    pos_d = defaultdict(lambda: 'unk')\n",
    "    with open('/mnt/permanent/Language/Hungarian/Crawl/Web2/ana/all_morphtable', encoding='latin2') as infile:\n",
    "        for i, line in enumerate(infile):\n",
    "            try:\n",
    "                word, w_per_ana = line.strip().split()\n",
    "                ana = re.findall('[A-Z][A-Z]+', w_per_ana)[0]\n",
    "                pos_d[word] = ana\n",
    "            except:\n",
    "                continue\n",
    "    logging.debug(pos_d.values())\n",
    "    return pos_d\n",
    "\n",
    "\n",
    "def plot_against_degree(cent, background=None):\n",
    "    pos = read_pos_dict()\n",
    "    if background is None:\n",
    "        background = nx.degree_centrality(G)\n",
    "    ws_dg, dgr = head(background)\n",
    "    ws_bt, btw = head(cent)\n",
    "    ws = [w for w in ws_dg if w in ws_bt]\n",
    "    plt.xscale('log')\n",
    "    plt.yscale('log')\n",
    "    plt.scatter(\n",
    "        [dgr[wd] for wd in ws],\n",
    "        [btw[wd] for wd in ws],\n",
    "        c=[pos_color[pos[wd]] for wd in ws],\n",
    "        s=[40 if pos[wd] in ['CONJ', 'VERB'] else 5 for wd in ws]\n",
    "    )\n",
    "    for wd in ws:\n",
    "        if pos[wd] in ['CONJ', 'VERB'] and (dgr[wd] > .002 or random.random() < .05):\n",
    "            plt.annotate(wd, (dgr[wd], btw[wd]))\n",
    "    plt.xlabel('fokszám')\n",
    "    plt.ylabel('tekintély')\n",
    "    plt.savefig('paper/conv-verb-auth.png')"
   ]
  },
  {
   "cell_type": "code",
   "execution_count": 6,
   "metadata": {},
   "outputs": [],
   "source": [
    "G = nx.read_gpickle('/mnt/permanent/home/makrai/project/TextBetweenness/mnsz"
   ]
  },
  {
   "cell_type": "code",
   "execution_count": 7,
   "metadata": {},
   "outputs": [
    {
     "name": "stderr",
     "output_type": "stream",
     "text": [
      "2018-01-12 15:18:07,144: (1) INFO \n",
      "2018-01-12 15:18:55,419: (3) INFO \n"
     ]
    }
   ],
   "source": [
    "logging.info('')\n",
    "hubs, auths = nx.algorithms.link_analysis.hits(G)\n",
    "logging.info('')"
   ]
  },
  {
   "cell_type": "markdown",
   "metadata": {},
   "source": [
    "Time complexity of HITS\n",
    "|# sent|      |\n",
    "|------|------|\n",
    "|   10k|13 sec|\n",
    "|  100k|48 sec|"
   ]
  },
  {
   "cell_type": "code",
   "execution_count": null,
   "metadata": {},
   "outputs": [],
   "source": [
    "plot_against_degree(auths)"
   ]
  },
  {
   "cell_type": "code",
   "execution_count": null,
   "metadata": {},
   "outputs": [],
   "source": [
    "pos_color = defaultdict(lambda: 'k')\n",
    "majorc = ['NOUN', 'VERB', 'ADJ', 'ADV', 'NUM', 'PREV', 'POSTP', 'ART', 'CONJ']\n",
    "pos_color.update({pos: i/len(majorc) for pos in majorc})\n",
    "['b', 'g', 'r', 'c', 'm', 'y', 'k']"
   ]
  },
  {
   "cell_type": "code",
   "execution_count": null,
   "metadata": {},
   "outputs": [],
   "source": []
  }
 ],
 "metadata": {
  "kernelspec": {
   "display_name": "Python 3",
   "language": "python",
   "name": "python3"
  },
  "language_info": {
   "codemirror_mode": {
    "name": "ipython",
    "version": 3
   },
   "file_extension": ".py",
   "mimetype": "text/x-python",
   "name": "python",
   "nbconvert_exporter": "python",
   "pygments_lexer": "ipython3",
   "version": "3.4.2"
  }
 },
 "nbformat": 4,
 "nbformat_minor": 2
}
