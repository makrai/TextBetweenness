{
 "cells": [
  {
   "cell_type": "code",
   "execution_count": 2,
   "metadata": {
    "collapsed": true
   },
   "outputs": [],
   "source": [
    "from collections import defaultdict\n",
    "import logging\n",
    "logging.basicConfig(level=logging.DEBUG, format=\"%(asctime)s: (%(lineno)s) %(levelname)s %(message)s\")\n",
    "\n",
    "import numpy as np\n",
    "import networkx as nx\n",
    "from nltk.util import ngrams\n",
    "\n",
    "\n",
    "def spl_reader(filen):\n",
    "    with open(filen) as corp:\n",
    "        for sent in corp:\n",
    "            for word in sent.split():\n",
    "                yield word\n",
    "\n",
    "                \n",
    "def wpl_reader(filen):\n",
    "    with open(filen) as infilen:\n",
    "        for token in infilen:\n",
    "            if token:\n",
    "                yield token.strip().split()[0]"
   ]
  },
  {
   "cell_type": "code",
   "execution_count": 3,
   "metadata": {
    "collapsed": true
   },
   "outputs": [],
   "source": [
    "def corpus_to_graph(word_gen):\n",
    "    bigram_count = defaultdict(int)\n",
    "    for i, bigram in enumerate(ngrams(word_gen, 2)):\n",
    "        bigram_count[bigram] += 1\n",
    "    G = nx.DiGraph()\n",
    "    G.add_weighted_edges_from([(ws[0], ws[1], weight) for ws, weight in bigram_count.items()])\n",
    "    return G"
   ]
  },
  {
   "cell_type": "code",
   "execution_count": 7,
   "metadata": {
    "collapsed": true
   },
   "outputs": [],
   "source": [
    "corpus_fn_patt = '/mnt/permanent/Language/Hungarian/Corp/mnsz2/mnsz2_{}-sent.spl'\n",
    "gfilen_root = '/mnt/permanent/home/makrai/project/TextBetweenness/mnsz_{}-sent.gpickle'"
   ]
  },
  {
   "cell_type": "code",
   "execution_count": 8,
   "metadata": {},
   "outputs": [
    {
     "name": "stderr",
     "output_type": "stream",
     "text": [
      "2018-01-15 17:15:50,384: (2) INFO \n",
      "2018-01-15 17:15:50,386: (4) INFO \n",
      "2018-01-15 17:15:50,388: (6) INFO \n"
     ]
    }
   ],
   "source": [
    "for sent_num in [1]:\n",
    "    logging.info('')\n",
    "    G = corpus_to_graph(spl_reader(corpus_fn_patt.format(sent_num)))\n",
    "    logging.info('')\n",
    "    nx.write_gpickle(G,gfilen_root.format(sent_num))\n",
    "    logging.info('')"
   ]
  },
  {
   "cell_type": "raw",
   "metadata": {},
   "source": [
    "Gs = {}\n",
    "for size in ['']:#'100', '1k', '10k', '100k', '1m']:\n",
    "    logging.info(size)\n",
    "    Gs[size] = nx.read_gpickle(gfilen_root.format(size, 'gpickle'))\n",
    "logging.info('size')"
   ]
  },
  {
   "cell_type": "raw",
   "metadata": {},
   "source": [
    "shpath_lens= {}\n",
    "for size, G in Gs.items():\n",
    "    logging.info(size)\n",
    "    plen = nx.shortest_path_length(Gs[size], weight=None)\n",
    "    print(list(plen))\n",
    "    shpath_lens[size] = plen\n",
    "logging.info('size')"
   ]
  },
  {
   "cell_type": "raw",
   "metadata": {},
   "source": [
    "shpath_lens"
   ]
  },
  {
   "cell_type": "markdown",
   "metadata": {},
   "source": [
    "# Attic: integer node labels"
   ]
  },
  {
   "cell_type": "raw",
   "metadata": {},
   "source": [
    "G = nx.parse_edgelist(\n",
    "    open('/mnt/permanent/home/makrai/project/TextBetweenness/cooccurrences-0symm-w1.txt').readlines(),\n",
    "    nodetype = int, data=(('weight',float),), create_using=nx.DiGraph())"
   ]
  }
 ],
 "metadata": {
  "kernelspec": {
   "display_name": "Python 3",
   "language": "python",
   "name": "python3"
  },
  "language_info": {
   "codemirror_mode": {
    "name": "ipython",
    "version": 3
   },
   "file_extension": ".py",
   "mimetype": "text/x-python",
   "name": "python",
   "nbconvert_exporter": "python",
   "pygments_lexer": "ipython3",
   "version": "3.5.2"
  }
 },
 "nbformat": 4,
 "nbformat_minor": 2
}
