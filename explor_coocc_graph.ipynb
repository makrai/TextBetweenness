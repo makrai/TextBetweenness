{
 "cells": [
  {
   "cell_type": "markdown",
   "metadata": {},
   "source": [
    "# Word bigrams as a scale-free network\n",
    "\n",
    "In this notebook, we analyze the directed graph of words with edges weighted by bigram counts in a text corpus.\n",
    "\n",
    "The notebook was created following the [NetworkX reference](https://networkx.github.io/documentation/stable/reference/index.html) and the [NetworKit User Guide](http://nbviewer.jupyter.org/urls/networkit.iti.kit.edu/uploads/docs/NetworKit_UserGuide.ipynb). (NetworKit is comparable\n",
    "to NetworkX, with a focus on parallelism \n",
    "and scalability, but lacking implementation for directed graphs, which are crucial here. NetworKit \n",
    "contains a few novel algorithms, especially\n",
    "in the area of community detection.)\n",
    "\n",
    "[networkit]: http://parco.iti.kit.edu/software/networkit.shtml \n",
    "[networkx]: http://networkx.github.com/\n",
    "\n"
   ]
  },
  {
   "cell_type": "code",
   "execution_count": 3,
   "metadata": {},
   "outputs": [
    {
     "name": "stdout",
     "output_type": "stream",
     "text": [
      "Populating the interactive namespace from numpy and matplotlib\n"
     ]
    }
   ],
   "source": [
    "import logging\n",
    "logging.basicConfig(level=logging.DEBUG, format=\"%(asctime)s: (%(lineno)s) %(levelname)s %(message)s\")\n",
    "\n",
    "%matplotlib inline\n",
    "import matplotlib.pyplot as plt\n",
    "%pylab inline\n",
    "pylab.rcParams['figure.figsize'] = (15, 6)\n",
    "\n",
    "import networkx as nx"
   ]
  },
  {
   "cell_type": "code",
   "execution_count": 4,
   "metadata": {},
   "outputs": [
    {
     "name": "stderr",
     "output_type": "stream",
     "text": [
      "2018-01-12 14:20:48,116: (1) DEBUG \n"
     ]
    }
   ],
   "source": [
    "logging.debug('')"
   ]
  },
  {
   "cell_type": "markdown",
   "metadata": {},
   "source": [
    "## Reading and exploring the graph"
   ]
  },
  {
   "cell_type": "markdown",
   "metadata": {},
   "source": [
    "We start by reading the network."
   ]
  },
  {
   "cell_type": "raw",
   "metadata": {},
   "source": [
    "G = nx.read_edgelist(\n",
    "    '/mnt/permanent/home/makrai/project/TextBetweenness/mnsz_1m-sent.edgelist', create_using=nx.DiGraph())"
   ]
  },
  {
   "cell_type": "code",
   "execution_count": 2,
   "metadata": {},
   "outputs": [],
   "source": [
    "G = nx.read_gpickle('/mnt/permanent/home/makrai/project/TextBetweenness/mnsz2_1k-sent.gpickle')"
   ]
  },
  {
   "cell_type": "markdown",
   "metadata": {},
   "source": [
    "G is a directed graph, *Di*Graph:"
   ]
  },
  {
   "cell_type": "code",
   "execution_count": 3,
   "metadata": {},
   "outputs": [
    {
     "data": {
      "text/plain": [
       "networkx.classes.digraph.DiGraph"
      ]
     },
     "execution_count": 3,
     "metadata": {},
     "output_type": "execute_result"
    }
   ],
   "source": [
    "type(G)"
   ]
  },
  {
   "cell_type": "code",
   "execution_count": 4,
   "metadata": {},
   "outputs": [
    {
     "data": {
      "text/plain": [
       "True"
      ]
     },
     "execution_count": 4,
     "metadata": {},
     "output_type": "execute_result"
    }
   ],
   "source": [
    "G.is_directed()"
   ]
  },
  {
   "cell_type": "markdown",
   "metadata": {},
   "source": [
    "In this graph, nodes are python strings representing Hungarian words. "
   ]
  },
  {
   "cell_type": "code",
   "execution_count": 5,
   "metadata": {
    "collapsed": true
   },
   "outputs": [],
   "source": [
    "w1, w2 = 'az', 'ember'"
   ]
  },
  {
   "cell_type": "code",
   "execution_count": 6,
   "metadata": {},
   "outputs": [
    {
     "data": {
      "text/plain": [
       "True"
      ]
     },
     "execution_count": 6,
     "metadata": {},
     "output_type": "execute_result"
    }
   ],
   "source": [
    "G.has_edge(w1, w2)"
   ]
  },
  {
   "cell_type": "markdown",
   "metadata": {},
   "source": [
    "The bigram frequency of _a kutya_ `the dog' corresponds to an edge weigth:"
   ]
  },
  {
   "cell_type": "code",
   "execution_count": 7,
   "metadata": {},
   "outputs": [
    {
     "name": "stdout",
     "output_type": "stream",
     "text": [
      "{'weight': 3}\n"
     ]
    }
   ],
   "source": [
    "try:\n",
    "    print(G[w1][w2])\n",
    "except:\n",
    "    logging.warn('\"{} {}\" not in corpus'.format(w1, w2))"
   ]
  },
  {
   "cell_type": "markdown",
   "metadata": {},
   "source": [
    "The reverse bigram is much less frequent:"
   ]
  },
  {
   "cell_type": "code",
   "execution_count": 8,
   "metadata": {},
   "outputs": [
    {
     "name": "stdout",
     "output_type": "stream",
     "text": [
      "This small sample does not contain the reverse bigram.\n"
     ]
    }
   ],
   "source": [
    "try:\n",
    "    print(G[w2][w1])\n",
    "except:\n",
    "    print('This small sample does not contain the reverse bigram.')"
   ]
  },
  {
   "cell_type": "code",
   "execution_count": 9,
   "metadata": {},
   "outputs": [
    {
     "data": {
      "text/plain": [
       "(6828, 12952)"
      ]
     },
     "execution_count": 9,
     "metadata": {},
     "output_type": "execute_result"
    }
   ],
   "source": [
    "G.number_of_nodes(), G.number_of_edges()"
   ]
  },
  {
   "cell_type": "markdown",
   "metadata": {},
   "source": [
    "## Connected Components"
   ]
  },
  {
   "cell_type": "markdown",
   "metadata": {},
   "source": [
    "A strongly connected component (SCC) is a set of nodes in which each pair of nodes is connected by a directed path. \n",
    "\n",
    "The following function determines the SCCs of a graph:"
   ]
  },
  {
   "cell_type": "markdown",
   "metadata": {},
   "source": [
    "### Connectivity"
   ]
  },
  {
   "cell_type": "code",
   "execution_count": 10,
   "metadata": {},
   "outputs": [
    {
     "name": "stdout",
     "output_type": "stream",
     "text": [
      "2018-01-02 23:41:12.092873\n",
      "False\n",
      "5\n",
      "1 ['Jancsi']\n",
      "1 ['Kukorica']\n",
      "6824 ['semmilyen', 'eszményét', 'részéről-', 'pénzintézetnél', 'lakosság', 'hamar', 'pénteken-szombaton', 'külföldi']\n",
      "1 ['Bandini']\n",
      "1 ['Lorenzo']\n",
      "2018-01-02 23:41:12.600042\n"
     ]
    },
    {
     "data": {
      "image/png": "[encoded data removed]",
      "text/plain": [
       "<matplotlib.figure.Figure at 0x7f27116831d0>"
      ]
     },
     "metadata": {},
     "output_type": "display_data"
    }
   ],
   "source": [
    "import datetime\n",
    "print(datetime.datetime.now())\n",
    "is_sconn = nx.is_strongly_connected(G)\n",
    "print(is_sconn)\n",
    "if not is_sconn:\n",
    "    print(nx.number_strongly_connected_components(G))\n",
    "    for cmp in nx.strongly_connected_components(G):\n",
    "        print(len(cmp), list(cmp)[:8])\n",
    "    nx.draw(nx.condensation(G))\n",
    "print(datetime.datetime.now())\n",
    "\n"
   ]
  },
  {
   "cell_type": "markdown",
   "metadata": {},
   "source": [
    "Time coplexity of `is_strongly_connected`:\n",
    "\n",
    "| # sentences | time          |\n",
    "|-------------|---------------|\n",
    "|10 k         |3 sec          |\n",
    "|30 k         |20 sec         |\n",
    "|100 k        |2 min          |"
   ]
  },
  {
   "cell_type": "markdown",
   "metadata": {},
   "source": [
    "## Degree Distribution"
   ]
  },
  {
   "cell_type": "markdown",
   "metadata": {},
   "source": [
    "In our case, node degree is the occurrence count of the corresponding word. We start with this simple measure.\n",
    "\n",
    "Node degree, the number of edges connected to a node, is one of the most studied properties of networks. Types of networks are often characterized in terms of their distribution of node degrees. We obtain and visualize the degree distribution of our example network as follows.  "
   ]
  },
  {
   "cell_type": "code",
   "execution_count": 11,
   "metadata": {
    "collapsed": true
   },
   "outputs": [],
   "source": [
    "import operator\n",
    "\n",
    "def sort_by_value(dict_):\n",
    "    return sorted(dict_.items(), key=operator.itemgetter(1), reverse=True)"
   ]
  },
  {
   "cell_type": "code",
   "execution_count": 12,
   "metadata": {
    "collapsed": true
   },
   "outputs": [],
   "source": [
    "dcent = sort_by_value(nx.centrality.degree_centrality(G))"
   ]
  },
  {
   "cell_type": "code",
   "execution_count": 13,
   "metadata": {},
   "outputs": [
    {
     "data": {
      "text/plain": [
       "[(',', 0.20697231580489234),\n",
       " ('a', 0.19071334407499635),\n",
       " ('.', 0.1457448366778966),\n",
       " ('az', 0.07587520140618134),\n",
       " ('és', 0.05097407353156584),\n",
       " ('nem', 0.02914896733557932),\n",
       " ('A', 0.02914896733557932),\n",
       " ('is', 0.028563058444411895),\n",
       " ('-', 0.025926468434158488),\n",
       " (':', 0.024754650651823643)]"
      ]
     },
     "execution_count": 13,
     "metadata": {},
     "output_type": "execute_result"
    }
   ],
   "source": [
    "dcent[:10]"
   ]
  },
  {
   "cell_type": "code",
   "execution_count": 14,
   "metadata": {
    "collapsed": true
   },
   "outputs": [],
   "source": [
    "def plot_word_values(items_sorted, cutoff=20):\n",
    "    words, cents = zip(*items_sorted)\n",
    "    logging.info(words[:100])\n",
    "    plt.bar(range(cutoff), cents[:cutoff], align='center')\n",
    "    plt.xticks(range(cutoff), words[:cutoff])\n",
    "    plt.show()"
   ]
  },
  {
   "cell_type": "code",
   "execution_count": 15,
   "metadata": {},
   "outputs": [
    {
     "name": "stderr",
     "output_type": "stream",
     "text": [
      "2018-01-02 23:41:12,834: (3) INFO (',', 'a', '.', 'az', 'és', 'nem', 'A', 'is', '-', ':', 'egy', '(', ')', '\"', 'hogy', '?', 'Az', 'meg', 'van', 'vagy', 'már', 'volt', 'azt', '!', 'kell', 'még', 'szerint', 'el', 'csak', 'olyan', 'ez', 'ha', 'pedig', 'között', 'nagyon', 'ezt', 'ki', 'új', 'de', 'minden', 'mint', 'így', 'akkor', '...', '&verbar;', ';', 'magyar', 'úgy', 'majd', 'be', 'Nem', 'lesz', 'Ez', 'lehet', 'után', 'Magyar', 'miatt', 'sem', '=', 'fel', 'mert', 'több', 'mi', 'azonban', 'arra', 'itt', 'jól', 'annak', 's', 'nagy', 'két', 'mellett', 'ma', 'én', 'lenne', '-e', 'azért', 'most', 'nincs', 'millió', 'éves', 'más', 'volna', 'saját', 'felé', 'ami', 'ilyen', 'által', '1', '2', 'amely', 'le', 'erre', 'tett', '3', 'magát', 'ő', 'László', 'ember', 'alatt')\n"
     ]
    },
    {
     "data": {
      "image/png": "[encoded data removed]",
      "text/plain": [
       "<matplotlib.figure.Figure at 0x7f2711704d68>"
      ]
     },
     "metadata": {},
     "output_type": "display_data"
    }
   ],
   "source": [
    "plot_word_values(dcent)"
   ]
  },
  {
   "cell_type": "code",
   "execution_count": 16,
   "metadata": {
    "collapsed": true
   },
   "outputs": [],
   "source": [
    "def loglog_word_values(cents):\n",
    "    plt.loglog(range(len(cents)), cents)"
   ]
  },
  {
   "cell_type": "code",
   "execution_count": 17,
   "metadata": {},
   "outputs": [
    {
     "data": {
      "image/png": "[encoded data removed]",
      "text/plain": [
       "<matplotlib.figure.Figure at 0x7f270f674a58>"
      ]
     },
     "metadata": {},
     "output_type": "display_data"
    }
   ],
   "source": [
    "words, cents = zip(*dcent)\n",
    "loglog_word_values(cents)"
   ]
  },
  {
   "cell_type": "markdown",
   "metadata": {},
   "source": [
    "We choose a logarithmic scale on both axes because a _powerlaw degree distribution_, a characteristic feature of complex networks, would show up as a straight line from the top left to the bottom right on such a plot. As we see, the degree distribution of the `PGPgiantcompo` network is definitely skewed, with few high-degree nodes and many low-degree nodes. But does the distribution actually obey a power law? In order to study this, we need to apply the [powerlaw](https://pypi.python.org/pypi/powerlaw) module. Call the following function:"
   ]
  },
  {
   "cell_type": "code",
   "execution_count": 18,
   "metadata": {},
   "outputs": [
    {
     "name": "stderr",
     "output_type": "stream",
     "text": [
      "Calculating best minimal value for power law fit\n",
      "/home/makrai/tool/python/venv3/lib/python3.5/site-packages/powerlaw.py:697: RuntimeWarning: invalid value encountered in true_divide\n",
      "  (Theoretical_CDF * (1 - Theoretical_CDF))\n"
     ]
    }
   ],
   "source": [
    "import powerlaw\n",
    "fit = powerlaw.Fit(cents)"
   ]
  },
  {
   "cell_type": "markdown",
   "metadata": {},
   "source": [
    "The powerlaw coefficient can then be retrieved via:"
   ]
  },
  {
   "cell_type": "code",
   "execution_count": 19,
   "metadata": {},
   "outputs": [
    {
     "data": {
      "text/plain": [
       "2.201680988765367"
      ]
     },
     "execution_count": 19,
     "metadata": {},
     "output_type": "execute_result"
    }
   ],
   "source": [
    "fit.alpha"
   ]
  },
  {
   "cell_type": "markdown",
   "metadata": {},
   "source": [
    "If you further want to know how \"good\" it fits the power law distribution, you can use the the `distribution_compare`-function. From the documentation of the function: \n",
    "> R : float\n",
    ">\n",
    "> Loglikelihood ratio of the two distributions' fit to the data. If\n",
    "> greater than 0, the first distribution is preferred. If less than\n",
    "> 0, the second distribution is preferred.\n",
    "\n",
    "> p : float\n",
    ">\n",
    "> Significance of R\n"
   ]
  },
  {
   "cell_type": "code",
   "execution_count": 20,
   "metadata": {},
   "outputs": [
    {
     "name": "stderr",
     "output_type": "stream",
     "text": [
      "/home/makrai/tool/python/venv3/lib/python3.5/site-packages/powerlaw.py:697: RuntimeWarning: invalid value encountered in true_divide\n",
      "  (Theoretical_CDF * (1 - Theoretical_CDF))\n"
     ]
    },
    {
     "data": {
      "text/plain": [
       "(132.91443372333427, 5.9125052707187189e-06)"
      ]
     },
     "execution_count": 20,
     "metadata": {},
     "output_type": "execute_result"
    }
   ],
   "source": [
    "fit.distribution_compare('power_law','exponential')"
   ]
  },
  {
   "cell_type": "markdown",
   "metadata": {},
   "source": [
    "## Distance Measures, ,,small world''"
   ]
  },
  {
   "cell_type": "markdown",
   "metadata": {},
   "source": [
    "The _eccentricity_ of a node $v$ is the maximum distance from $v$ to all other nodes in $G$."
   ]
  },
  {
   "cell_type": "code",
   "execution_count": 21,
   "metadata": {},
   "outputs": [
    {
     "name": "stderr",
     "output_type": "stream",
     "text": [
      "2018-01-02 23:41:14,120: (1) INFO \n",
      "2018-01-02 23:45:28,719: (3) INFO \n"
     ]
    }
   ],
   "source": [
    "logging.info('')\n",
    "ecc_d_l = [nx.eccentricity(comp) for comp in nx.strongly_connected_component_subgraphs(G)]\n",
    "logging.info('')"
   ]
  },
  {
   "cell_type": "markdown",
   "metadata": {},
   "source": [
    "|sentences|time |\n",
    "|:-------:|:---:|\n",
    "|1K|4 min 15 sec|"
   ]
  },
  {
   "cell_type": "code",
   "execution_count": 22,
   "metadata": {
    "collapsed": true
   },
   "outputs": [],
   "source": [
    "ecc_d = ecc_d_l[2]\n",
    "#ecc_d"
   ]
  },
  {
   "cell_type": "markdown",
   "metadata": {},
   "source": [
    "The _radius_ is the minimum eccentricity."
   ]
  },
  {
   "cell_type": "code",
   "execution_count": 23,
   "metadata": {},
   "outputs": [
    {
     "data": {
      "text/plain": [
       "9"
      ]
     },
     "execution_count": 23,
     "metadata": {},
     "output_type": "execute_result"
    }
   ],
   "source": [
    "nx.radius(G, ecc_d) #usebounds=True does not cause a difference"
   ]
  },
  {
   "cell_type": "markdown",
   "metadata": {},
   "source": [
    "The diameter is the maximum eccentricity."
   ]
  },
  {
   "cell_type": "code",
   "execution_count": 24,
   "metadata": {},
   "outputs": [
    {
     "data": {
      "text/plain": [
       "19"
      ]
     },
     "execution_count": 24,
     "metadata": {},
     "output_type": "execute_result"
    }
   ],
   "source": [
    "nx.diameter(G, ecc_d)"
   ]
  },
  {
   "cell_type": "markdown",
   "metadata": {},
   "source": [
    "The _center_ is the set of nodes with eccentricity equal to radius."
   ]
  },
  {
   "cell_type": "code",
   "execution_count": 25,
   "metadata": {},
   "outputs": [
    {
     "data": {
      "text/plain": [
       "[',']"
      ]
     },
     "execution_count": 25,
     "metadata": {},
     "output_type": "execute_result"
    }
   ],
   "source": [
    "nx.center(G, ecc_d)"
   ]
  },
  {
   "cell_type": "markdown",
   "metadata": {},
   "source": [
    "The _periphery_ is the set of nodes with eccentricity equal to the diameter:"
   ]
  },
  {
   "cell_type": "code",
   "execution_count": 26,
   "metadata": {},
   "outputs": [
    {
     "data": {
      "text/plain": [
       "['Megadható', 'two']"
      ]
     },
     "execution_count": 26,
     "metadata": {},
     "output_type": "execute_result"
    }
   ],
   "source": [
    "nx.periphery(G, ecc_d)"
   ]
  },
  {
   "cell_type": "markdown",
   "metadata": {},
   "source": [
    "## Transitivity / Clustering Coefficients\n",
    "### (not very meaningful for DiGraphs)"
   ]
  },
  {
   "cell_type": "markdown",
   "metadata": {},
   "source": [
    "In the most general sense, transitivity measures quantify how likely it is that the relations out of which the network is built are transitive. The clustering coefficient is the most prominent of such measures. We need to distinguish between global and local clustering coefficient: The global clustering coefficient for a network gives the fraction of closed triads. The local clustering coefficient focuses on a single node and counts how many of the possible edges between neighbors of the node exist. The average of this value over all nodes is a good indicator for the degreee of transitivity and the presence of community structures in a network, and this is what the following function returns:"
   ]
  },
  {
   "cell_type": "markdown",
   "metadata": {},
   "source": [
    "### Compute graph transitivity, the fraction of all possible triangles present in G"
   ]
  },
  {
   "cell_type": "code",
   "execution_count": 27,
   "metadata": {},
   "outputs": [
    {
     "name": "stderr",
     "output_type": "stream",
     "text": [
      "2018-01-02 23:45:28,761: (1) INFO \n",
      "2018-01-02 23:45:29,381: (3) INFO \n"
     ]
    },
    {
     "name": "stdout",
     "output_type": "stream",
     "text": [
      "0.0026300923465821372\n"
     ]
    }
   ],
   "source": [
    "logging.info('')\n",
    "print(nx.transitivity(G))\n",
    "logging.info('')"
   ]
  },
  {
   "cell_type": "markdown",
   "metadata": {},
   "source": [
    "### Compute the clustering coefficient for nodes."
   ]
  },
  {
   "cell_type": "markdown",
   "metadata": {
    "collapsed": true
   },
   "source": [
    "`clustering`, `average_clustering` are not implemented for directed graphs, see [Malliaros (arXiv)](https://arxiv.org/pdf/1308.0971).\n"
   ]
  },
  {
   "cell_type": "markdown",
   "metadata": {},
   "source": [
    "#### Compute the squares clustering coefficient for nodes\n",
    "\n",
    "While $C_3(v)$ (triangle clustering) gives the probability that two neighbors of node v are connected with each other, $C_4(v)$ is the probability that two neighbors of node $v$ share a common neighbor different from $v$. This computation takes a long time."
   ]
  },
  {
   "cell_type": "raw",
   "metadata": {
    "collapsed": true
   },
   "source": [
    "logging.info('')\n",
    "sq_clus = nx.square_clustering(G)\n",
    "logging.info('')"
   ]
  },
  {
   "cell_type": "markdown",
   "metadata": {},
   "source": [
    "`sq_clus` is of type `{'the': .4}`"
   ]
  },
  {
   "cell_type": "raw",
   "metadata": {},
   "source": [
    "sq_clus_l = sort_by_value(sq_clus)\n",
    "plot_word_values(sq_clus_l)"
   ]
  },
  {
   "cell_type": "raw",
   "metadata": {},
   "source": [
    "loglog_word_values(sq_clus_l)"
   ]
  },
  {
   "cell_type": "markdown",
   "metadata": {
    "collapsed": true
   },
   "source": [
    "#### Compute the generalized degree for nodes\n",
    "\n",
    "`generalized_degree` is not implemented for directed graphs\n",
    "\n",
    "\n",
    "For each node, the _generalized degree_ shows how many edges of given triangle multiplicity the node is connected to. The _triangle multiplicity_ of an edge is the number of triangles an edge participates in. The generalized degree of node i can be written as a vector $\\mathbf{k}_i=(k_i^{(0)}, \\dotsc, k_i^{(N-2)})$ where $k_i^{(j)}$ is the number of edges attached to node $i$ that participate in $j$ triangles."
   ]
  },
  {
   "cell_type": "markdown",
   "metadata": {},
   "source": [
    "## Traversal (search) and Shortest Paths"
   ]
  },
  {
   "cell_type": "markdown",
   "metadata": {},
   "source": [
    "### Depth First Search"
   ]
  },
  {
   "cell_type": "code",
   "execution_count": 28,
   "metadata": {},
   "outputs": [
    {
     "data": {
      "image/png": "[encoded data removed]",
      "text/plain": [
       "<matplotlib.figure.Figure at 0x7f270f532f98>"
      ]
     },
     "metadata": {},
     "output_type": "display_data"
    }
   ],
   "source": [
    "nx.draw_networkx(nx.subgraph(G, nx.traversal.dfs_postorder_nodes(G, 'számítógépes', 3)))"
   ]
  },
  {
   "cell_type": "markdown",
   "metadata": {},
   "source": [
    "### Shortest Paths \n",
    "\n",
    "**TODO** approximation"
   ]
  },
  {
   "cell_type": "markdown",
   "metadata": {},
   "source": [
    "These algorithms work with undirected and directed graphs."
   ]
  },
  {
   "cell_type": "raw",
   "metadata": {},
   "source": [
    "nx.shortest_path(G, 'számítógépes', 'nyelvészeti')"
   ]
  },
  {
   "cell_type": "raw",
   "metadata": {
    "collapsed": true
   },
   "source": [
    "nx.shortest_path(G, 'számítógépes', 'nyelvészeti', weight='weight')"
   ]
  },
  {
   "cell_type": "markdown",
   "metadata": {},
   "source": [
    "#### Unweighted graphs"
   ]
  },
  {
   "cell_type": "raw",
   "metadata": {},
   "source": [
    "nx.average_shortest_path_length(G)"
   ]
  },
  {
   "cell_type": "raw",
   "metadata": {},
   "source": [
    "nx.average_shortest_path_length(G, weight='weight')"
   ]
  },
  {
   "cell_type": "markdown",
   "metadata": {},
   "source": [
    "#### Weighed graphs"
   ]
  },
  {
   "cell_type": "raw",
   "metadata": {},
   "source": [
    "lengths = sum([length_from_one.values() for _, length_from_one in nx.all_pairs_dijkstra_path_length(G)])"
   ]
  },
  {
   "cell_type": "markdown",
   "metadata": {},
   "source": [
    "#### Dense Graphs: Floyd-Warshall algorithm"
   ]
  },
  {
   "cell_type": "raw",
   "metadata": {},
   "source": [
    "nx.floyd_warshall_numpy(G)"
   ]
  },
  {
   "cell_type": "markdown",
   "metadata": {},
   "source": [
    "#### A* Algorithm"
   ]
  },
  {
   "cell_type": "markdown",
   "metadata": {},
   "source": [
    "Computing the length of the shortest path between source and target using the A* (“A-star”) algorithm."
   ]
  },
  {
   "cell_type": "markdown",
   "metadata": {},
   "source": [
    "nx.astar_path_length(G, source, target[, …]) \t"
   ]
  },
  {
   "cell_type": "code",
   "execution_count": null,
   "metadata": {
    "collapsed": true
   },
   "outputs": [],
   "source": [
    "nx.distance_measures.bfs_beam_edges(G, 'magyar', )"
   ]
  },
  {
   "cell_type": "raw",
   "metadata": {
    "collapsed": true
   },
   "source": [
    "beam_edges(G, source, value[, width]) \tIterates over edges in a beam search."
   ]
  },
  {
   "cell_type": "markdown",
   "metadata": {},
   "source": [
    "### Depth First Search on Edges"
   ]
  },
  {
   "cell_type": "raw",
   "metadata": {},
   "source": [
    "nx.edge_dfs(G,[, source, orientation])"
   ]
  },
  {
   "cell_type": "markdown",
   "metadata": {},
   "source": [
    "## Betweenness"
   ]
  },
  {
   "cell_type": "code",
   "execution_count": null,
   "metadata": {},
   "outputs": [],
   "source": [
    "G.number_of_nodes()"
   ]
  },
  {
   "cell_type": "code",
   "execution_count": 31,
   "metadata": {
    "collapsed": true
   },
   "outputs": [],
   "source": [
    "def head(dict_):\n",
    "    items = sort_by_value(dict_)[:1000]\n",
    "    keys, _ = zip(*items)\n",
    "    return keys, dict(items)"
   ]
  },
  {
   "cell_type": "code",
   "execution_count": 110,
   "metadata": {
    "collapsed": true
   },
   "outputs": [],
   "source": [
    "def plot_against_degree(cent, background=None, annot_prob=.1, \n",
    "                        annot_all_from_x=1,#.003, \n",
    "                        annot_all_from_y=1, annot_whilte_list=None, savefig=None):#.004):\n",
    "    if background is None:\n",
    "        background = nx.degree_centrality(G)\n",
    "    ws_dg, dgr = head(background)\n",
    "    ws_bt, btw = head(cent)\n",
    "    ws = [w for w in ws_dg if w in ws_bt]\n",
    "    plt.xscale('log')\n",
    "    plt.yscale('log')\n",
    "    plt.scatter(\n",
    "        [dgr[wd] for wd in ws],\n",
    "        [btw[wd] for wd in ws])\n",
    "    for wd in ws:\n",
    "        if random.random() < 100 *btw[wd] or (annot_whilte_list and wd in annot_whilte_list):\n",
    "        #                    annot_prob or dgr[wd] > annot_all_from_x or btw[wd] > annot_all_from_y:\n",
    "            plt.annotate(wd, (dgr[wd], btw[wd]), rotation=45)\n",
    "    if savefig:\n",
    "        plt.savefig(savefig)"
   ]
  },
  {
   "cell_type": "markdown",
   "metadata": {},
   "source": [
    "### The number of word types before and after the node"
   ]
  },
  {
   "cell_type": "code",
   "execution_count": 108,
   "metadata": {},
   "outputs": [
    {
     "data": {
      "image/png": "[encoded data removed]",
      "text/plain": [
       "<matplotlib.figure.Figure at 0x7f26f730c9e8>"
      ]
     },
     "metadata": {},
     "output_type": "display_data"
    }
   ],
   "source": [
    "plot_against_degree(nx.in_degree_centrality(G), background=nx.out_degree_centrality(G))"
   ]
  },
  {
   "cell_type": "markdown",
   "metadata": {},
   "source": [
    "### (Shortest Path) Betweenness"
   ]
  },
  {
   "cell_type": "code",
   "execution_count": null,
   "metadata": {
    "collapsed": true
   },
   "outputs": [],
   "source": [
    "samp_siz = 50\n",
    "logging.info(samp_siz)\n",
    "btw = nx.betweenness_centrality(G, samp_siz, normalized=True)"
   ]
  },
  {
   "cell_type": "code",
   "execution_count": 111,
   "metadata": {},
   "outputs": [
    {
     "name": "stderr",
     "output_type": "stream",
     "text": [
      "2018-01-03 00:27:48,193: (2) INFO 50\n"
     ]
    },
    {
     "data": {
      "image/png": "[encoded data removed]",
      "text/plain": [
       "<matplotlib.figure.Figure at 0x7f270ecb4be0>"
      ]
     },
     "metadata": {},
     "output_type": "display_data"
    }
   ],
   "source": [
    "plot_against_degree(btw)#, annot_prob=.05, annot_all_from_y=.005)"
   ]
  },
  {
   "cell_type": "markdown",
   "metadata": {},
   "source": [
    "### Current Flow Betweenness"
   ]
  },
  {
   "cell_type": "markdown",
   "metadata": {},
   "source": [
    "not implemented for directed type\n",
    "\n",
    "_Current-flow betweenness_ centrality uses an electrical current model for information spreading in contrast to betweenness centrality which uses shortest paths.\n",
    "\n",
    "Current-flow betweenness centrality is also known as _random-walk betweenness_ centrality [2]."
   ]
  },
  {
   "cell_type": "markdown",
   "metadata": {},
   "source": [
    "### Communicability Betweenness"
   ]
  },
  {
   "cell_type": "markdown",
   "metadata": {},
   "source": [
    "not implemented for directed type\n",
    "\n",
    "Communicability betweenness measure makes use of the number of walks connecting every pair of nodes as the basis of a betweenness centrality measure."
   ]
  },
  {
   "cell_type": "markdown",
   "metadata": {},
   "source": [
    "## Centrality (but not betweenness?)"
   ]
  },
  {
   "cell_type": "markdown",
   "metadata": {},
   "source": [
    "### Eigenvector"
   ]
  },
  {
   "cell_type": "code",
   "execution_count": 85,
   "metadata": {},
   "outputs": [
    {
     "data": {
      "image/png": "[encoded data removed]",
      "text/plain": [
       "<matplotlib.figure.Figure at 0x7f26fffda860>"
      ]
     },
     "metadata": {},
     "output_type": "display_data"
    }
   ],
   "source": [
    "plot_against_degree(nx.eigenvector_centrality(G))"
   ]
  },
  {
   "cell_type": "code",
   "execution_count": 86,
   "metadata": {},
   "outputs": [
    {
     "data": {
      "image/png": "[encoded data removed]",
      "text/plain": [
       "<matplotlib.figure.Figure at 0x7f27056c1e10>"
      ]
     },
     "metadata": {},
     "output_type": "display_data"
    }
   ],
   "source": [
    "plot_against_degree(nx.eigenvector_centrality(G, weight='weight'))"
   ]
  },
  {
   "cell_type": "raw",
   "metadata": {},
   "source": [
    "plot_against_degree(nx.katz_centrality(G, tol=1e-03))"
   ]
  },
  {
   "cell_type": "markdown",
   "metadata": {},
   "source": [
    "### Closeness"
   ]
  },
  {
   "cell_type": "raw",
   "metadata": {},
   "source": [
    "nx.closeness_centrality(G)"
   ]
  },
  {
   "cell_type": "code",
   "execution_count": 90,
   "metadata": {
    "collapsed": true
   },
   "outputs": [],
   "source": [
    "G_undir = G.to_undirected()"
   ]
  },
  {
   "cell_type": "code",
   "execution_count": 99,
   "metadata": {
    "collapsed": true
   },
   "outputs": [],
   "source": [
    "closeness = nx.current_flow_closeness_centrality(G_undir)"
   ]
  },
  {
   "cell_type": "code",
   "execution_count": 106,
   "metadata": {},
   "outputs": [
    {
     "data": {
      "image/png": "[encoded data removed]",
      "text/plain": [
       "<matplotlib.figure.Figure at 0x7f26f763fd30>"
      ]
     },
     "metadata": {},
     "output_type": "display_data"
    }
   ],
   "source": [
    "plot_against_degree(closeness, annot_whilte_list=['&verbar;', 'and', 'of', '='], annot_prob=.02, annot_all_from_x=0.02,\n",
    "                   savefig='./paper/current-flow-closeness.png')"
   ]
  },
  {
   "cell_type": "markdown",
   "metadata": {},
   "source": [
    "### PageRank"
   ]
  },
  {
   "cell_type": "code",
   "execution_count": null,
   "metadata": {},
   "outputs": [],
   "source": [
    "plot_against_degree(nx.algorithms.link_analysis.pagerank(G))"
   ]
  },
  {
   "cell_type": "markdown",
   "metadata": {},
   "source": [
    "### HITS"
   ]
  },
  {
   "cell_type": "markdown",
   "metadata": {},
   "source": [
    "The HITS algorithm computes two numbers for a node. Authorities estimates the node value based on the incoming links. Hubs estimates the node value based on outgoing links."
   ]
  },
  {
   "cell_type": "code",
   "execution_count": null,
   "metadata": {
    "collapsed": true
   },
   "outputs": [],
   "source": [
    "hubs_dir, authorities_dir = nx.algorithms.link_analysis.hits(G)"
   ]
  },
  {
   "cell_type": "code",
   "execution_count": null,
   "metadata": {
    "collapsed": true
   },
   "outputs": [],
   "source": [
    "hubs_ud, authorities_ud = nx.algorithms.link_analysis.hits(H)"
   ]
  },
  {
   "cell_type": "code",
   "execution_count": null,
   "metadata": {
    "collapsed": true
   },
   "outputs": [],
   "source": [
    "def subtract_keys(d1, d2):\n",
    "    return {key: d1[key] - d2[key] for key in d1}"
   ]
  },
  {
   "cell_type": "code",
   "execution_count": null,
   "metadata": {},
   "outputs": [],
   "source": [
    "loglog_word_values(sort_by_value(subtract_keys(hubs_dir, hubs_ud)))"
   ]
  },
  {
   "cell_type": "code",
   "execution_count": null,
   "metadata": {},
   "outputs": [],
   "source": [
    "plot_against_degree(hubs_dir)"
   ]
  },
  {
   "cell_type": "code",
   "execution_count": null,
   "metadata": {},
   "outputs": [],
   "source": [
    "plot_against_degree(authorities_dir)"
   ]
  },
  {
   "cell_type": "code",
   "execution_count": null,
   "metadata": {},
   "outputs": [],
   "source": [
    "plot_against_degree(authorities_ud)"
   ]
  },
  {
   "cell_type": "code",
   "execution_count": null,
   "metadata": {},
   "outputs": [],
   "source": [
    "plot_against_degree(hubs_dir, background=authorities_dir)"
   ]
  },
  {
   "cell_type": "markdown",
   "metadata": {},
   "source": [
    "## Core Decomposition"
   ]
  },
  {
   "cell_type": "markdown",
   "metadata": {},
   "source": [
    "A $k$-core decomposition of a graph is performed by successicely peeling away nodes with degree less than $k$. The remaining nodes form the $k$-core of the graph."
   ]
  },
  {
   "cell_type": "markdown",
   "metadata": {},
   "source": [
    "Core decomposition assigns a core number to each node, being the maximum $k$ for which a node is contained in the $k$-core."
   ]
  },
  {
   "cell_type": "markdown",
   "metadata": {},
   "source": [
    "Self loops are not permitted, so we remove these edges:"
   ]
  },
  {
   "cell_type": "code",
   "execution_count": null,
   "metadata": {
    "collapsed": true
   },
   "outputs": [],
   "source": [
    "G_no_loop = G.copy()"
   ]
  },
  {
   "cell_type": "code",
   "execution_count": null,
   "metadata": {
    "collapsed": true
   },
   "outputs": [],
   "source": [
    "G_no_loop.remove_edges_from(nx.selfloop_edges(G_no_loop))"
   ]
  },
  {
   "cell_type": "code",
   "execution_count": null,
   "metadata": {
    "collapsed": true
   },
   "outputs": [],
   "source": [
    "coren = nx.core_number(G_no_loop)"
   ]
  },
  {
   "cell_type": "code",
   "execution_count": null,
   "metadata": {
    "collapsed": true
   },
   "outputs": [],
   "source": [
    "from collections import defaultdict\n",
    "\n",
    "def print_by_value(coren, max_by_val=8):\n",
    "    words_by_core_num = defaultdict(set)\n",
    "    for w, c in coren.items():\n",
    "        words_by_core_num[c].add(w)\n",
    "    for cr in range(max(words_by_core_num.keys()) + 1):\n",
    "        if words_by_core_num[cr]:\n",
    "            print(cr, len(words_by_core_num[cr]), list(words_by_core_num[cr])[:max_by_val])"
   ]
  },
  {
   "cell_type": "code",
   "execution_count": null,
   "metadata": {},
   "outputs": [],
   "source": [
    "print_by_value(coren)        "
   ]
  },
  {
   "cell_type": "markdown",
   "metadata": {},
   "source": [
    "Weights?"
   ]
  },
  {
   "cell_type": "markdown",
   "metadata": {},
   "source": [
    "## Clicques\n",
    "\n",
    "The nodes of the maximal clique graph of G are the maximal (with respect to containment, not size) cliques of G and an edge joins two cliques if the cliques are not disjoint.\n",
    "\n",
    "not implemented for directed type"
   ]
  },
  {
   "cell_type": "code",
   "execution_count": null,
   "metadata": {
    "collapsed": true
   },
   "outputs": [],
   "source": [
    "H = G.to_undirected()"
   ]
  },
  {
   "cell_type": "code",
   "execution_count": null,
   "metadata": {
    "collapsed": true
   },
   "outputs": [],
   "source": [
    "mcg = nx.make_max_clique_graph(H)"
   ]
  },
  {
   "cell_type": "code",
   "execution_count": null,
   "metadata": {},
   "outputs": [],
   "source": [
    "mcg.number_of_nodes()"
   ]
  },
  {
   "cell_type": "code",
   "execution_count": null,
   "metadata": {},
   "outputs": [],
   "source": [
    "mcg.number_of_edges()"
   ]
  },
  {
   "cell_type": "code",
   "execution_count": null,
   "metadata": {},
   "outputs": [],
   "source": [
    "nx.graph_clique_number(H)"
   ]
  },
  {
   "cell_type": "markdown",
   "metadata": {},
   "source": [
    "|# sentence|clique number|\n",
    "|--------|-------------|\n",
    "|1k|8|"
   ]
  },
  {
   "cell_type": "markdown",
   "metadata": {},
   "source": [
    "The size of the largest maximal clique containing each given node:"
   ]
  },
  {
   "cell_type": "code",
   "execution_count": null,
   "metadata": {},
   "outputs": [],
   "source": [
    "print_by_value(nx.node_clique_number(H))"
   ]
  },
  {
   "cell_type": "markdown",
   "metadata": {},
   "source": [
    "The number of maximal cliques for each node:"
   ]
  },
  {
   "cell_type": "code",
   "execution_count": null,
   "metadata": {},
   "outputs": [],
   "source": [
    "print_by_value(nx.number_of_cliques(H))"
   ]
  },
  {
   "cell_type": "code",
   "execution_count": null,
   "metadata": {},
   "outputs": [],
   "source": [
    "nx.cliques_containing_node(H, nodes=['levéltárosok'])"
   ]
  },
  {
   "cell_type": "code",
   "execution_count": null,
   "metadata": {},
   "outputs": [],
   "source": [
    "nx.algorithms.community.kclique.k_clique_communities"
   ]
  },
  {
   "cell_type": "markdown",
   "metadata": {},
   "source": [
    "## Community Detection"
   ]
  },
  {
   "cell_type": "markdown",
   "metadata": {},
   "source": [
    "This section demonstrates community detection. Community detection is concerned with identifying groups of nodes which are significantly more densely connected to eachother than to the rest of the network."
   ]
  },
  {
   "cell_type": "code",
   "execution_count": null,
   "metadata": {
    "collapsed": true
   },
   "outputs": [],
   "source": [
    "from networkx.algorithms import community"
   ]
  },
  {
   "cell_type": "markdown",
   "metadata": {},
   "source": [
    "### Bipartitions to reduce the edge cut between the two sets"
   ]
  },
  {
   "cell_type": "raw",
   "metadata": {},
   "source": [
    "community.kernighan_lin_bisection(H)"
   ]
  },
  {
   "cell_type": "markdown",
   "metadata": {},
   "source": [
    "### K-Clique"
   ]
  },
  {
   "cell_type": "markdown",
   "metadata": {},
   "source": [
    "A k-clique community is the union of all cliques of size $k$ (here $k=6$) that can be reached through adjacent (sharing k-1 nodes) k-cliques."
   ]
  },
  {
   "cell_type": "code",
   "execution_count": null,
   "metadata": {
    "collapsed": true
   },
   "outputs": [],
   "source": [
    "comm = list(community.k_clique_communities(H, 6))[0]"
   ]
  },
  {
   "cell_type": "code",
   "execution_count": null,
   "metadata": {},
   "outputs": [],
   "source": [
    "type(comm), len(comm)"
   ]
  },
  {
   "cell_type": "code",
   "execution_count": null,
   "metadata": {},
   "outputs": [],
   "source": [
    "nx.draw_networkx(nx.subgraph(G, nbunch=comm), edge_color='g')"
   ]
  },
  {
   "cell_type": "markdown",
   "metadata": {},
   "source": [
    "### Label propagation\n",
    "\n",
    "Asynchronous label propagation algorithms for community detection."
   ]
  },
  {
   "cell_type": "raw",
   "metadata": {},
   "source": [
    "for v in community.asyn_lpa_communities(G, weight=True):\n",
    "    print(len(v), list(v)[:8])# v#[, weight])"
   ]
  },
  {
   "cell_type": "markdown",
   "metadata": {},
   "source": [
    "### Fluid Communities\n",
    "\n",
    "Asynchronous Fluid Communities algorithm for community detection.\n",
    "\n",
    "Here, $k$ is number of communities to be found."
   ]
  },
  {
   "cell_type": "code",
   "execution_count": null,
   "metadata": {},
   "outputs": [],
   "source": [
    "import random\n",
    "\n",
    "for k in range(2,10):\n",
    "    print(k)\n",
    "    partition_ = community.asyn_fluidc(H, k)\n",
    "    for val in partition_:\n",
    "        print(len(val), list(val)[:5])\n",
    "    #print(community.performance(H, partition_)) error. because directed?"
   ]
  },
  {
   "cell_type": "markdown",
   "metadata": {},
   "source": [
    "### Partitions via centrality measures"
   ]
  },
  {
   "cell_type": "raw",
   "metadata": {},
   "source": [
    "for x in community.girvan_newman(G):\n",
    "    print(x)"
   ]
  },
  {
   "cell_type": "raw",
   "metadata": {},
   "source": [
    "communities_generator = community.girvan_newman(G)\n",
    "logging.info('')\n",
    "top_level_communities = next(communities_generator)\n",
    "logging.info('')\n",
    "next_level_communities = next(communities_generator)\n",
    "logging.info('')\n",
    "sorted(map(sorted, next_level_communities))"
   ]
  },
  {
   "cell_type": "markdown",
   "metadata": {},
   "source": [
    "*Modularity* is the primary measure for the quality of a community detection solution. The value is in the range `[-0.5,1]` and usually depends both on the performance of the algorithm and the presence of distinctive community structures in the network."
   ]
  },
  {
   "cell_type": "markdown",
   "metadata": {},
   "source": [
    "### The distribution of community sizes\n",
    "\n",
    "...has nothing to do with powerlaw. Should it?"
   ]
  },
  {
   "cell_type": "markdown",
   "metadata": {},
   "source": [
    "## Assortativity"
   ]
  },
  {
   "cell_type": "code",
   "execution_count": null,
   "metadata": {},
   "outputs": [],
   "source": [
    "nx.degree_assortativity_coefficient(G)"
   ]
  },
  {
   "cell_type": "code",
   "execution_count": null,
   "metadata": {},
   "outputs": [],
   "source": [
    "nx.attribute_assortativity_coefficient(G, 'weight')"
   ]
  },
  {
   "cell_type": "markdown",
   "metadata": {},
   "source": [
    "Compute assortativity for numerical node attributes:"
   ]
  },
  {
   "cell_type": "raw",
   "metadata": {},
   "source": [
    "nx.numeric_assortativity_coefficient(G, 'weight')"
   ]
  },
  {
   "cell_type": "code",
   "execution_count": null,
   "metadata": {},
   "outputs": [],
   "source": [
    "nx.degree_pearson_correlation_coefficient(G)"
   ]
  },
  {
   "cell_type": "markdown",
   "metadata": {},
   "source": [
    "### Average neighbor degree"
   ]
  },
  {
   "cell_type": "markdown",
   "metadata": {},
   "source": [
    "The average degree of the neighborhood of each node:"
   ]
  },
  {
   "cell_type": "code",
   "execution_count": null,
   "metadata": {},
   "outputs": [],
   "source": [
    "plt.semilogy(sorted(nx.average_neighbor_degree(G).values()))\n",
    "#plt.yscale('log')"
   ]
  },
  {
   "cell_type": "markdown",
   "metadata": {},
   "source": [
    "### Average degree connectivity"
   ]
  },
  {
   "cell_type": "markdown",
   "metadata": {},
   "source": [
    "The _average degree connectivity_ is the average nearest neighbor degree of nodes with degree k. For weighted graphs, an analogous measure can be computed using the weighted average neighbors degree defined in [1], for a node i, as\n",
    "kwnn,i=1si∑j∈N(i)wijkj\n",
    "\n",
    "where s_i is the weighted degree of node i, w_{ij} is the weight of the edge that links i and j, and N(i) are the neighbors of node i."
   ]
  },
  {
   "cell_type": "markdown",
   "metadata": {},
   "source": [
    "A dictionary keyed by degree $k$ with the value of average connectivity."
   ]
  },
  {
   "cell_type": "code",
   "execution_count": null,
   "metadata": {
    "collapsed": true
   },
   "outputs": [],
   "source": [
    "def plot_avg_deg_conn(adc):\n",
    "    dg, cn = zip(*adc.items())\n",
    "    plt.scatter(dg, cn)"
   ]
  },
  {
   "cell_type": "code",
   "execution_count": null,
   "metadata": {},
   "outputs": [],
   "source": [
    "plot_avg_deg_conn(nx.average_degree_connectivity(G, weight='weight'))"
   ]
  },
  {
   "cell_type": "code",
   "execution_count": null,
   "metadata": {},
   "outputs": [],
   "source": [
    "plot_avg_deg_conn(nx.k_nearest_neighbors(G, weight='weight'))"
   ]
  },
  {
   "cell_type": "markdown",
   "metadata": {},
   "source": [
    "### Mixing"
   ]
  },
  {
   "cell_type": "markdown",
   "metadata": {},
   "source": [
    "Mixing patterns refer to systematic tendencies of one type of nodes in a network to connect to another type. For instance, nodes might tend to link to others that are very similar or very different. This feature is common in many social networks, although it also appears sometimes in non-social networks."
   ]
  },
  {
   "cell_type": "code",
   "execution_count": null,
   "metadata": {},
   "outputs": [],
   "source": [
    "nx.attribute_mixing_matrix(G, 'weight')"
   ]
  },
  {
   "cell_type": "code",
   "execution_count": null,
   "metadata": {
    "collapsed": true
   },
   "outputs": [],
   "source": [
    "dmm = nx.degree_mixing_matrix(G)"
   ]
  },
  {
   "cell_type": "code",
   "execution_count": null,
   "metadata": {},
   "outputs": [],
   "source": [
    "import numpy as np\n",
    "b = np.sum(dmm, axis = 0)\n",
    "idx = (-b).argsort()\n",
    "c = np.sum(dmm, axis=1)\n",
    "idx2 = (-c).argsort()\n",
    "#plt.matshow\n",
    "top=50\n",
    "plt.matshow(np.log(dmm[idx2[:top],:][:,idx[:top]]))\n",
    "#dmm.shape\n",
    "#np.sum(dmm, axis=1).argsort()\n",
    "#np.take([np.argmax(dmm, axis=0), np.argmax(dmm, axis=0)]"
   ]
  },
  {
   "cell_type": "code",
   "execution_count": null,
   "metadata": {},
   "outputs": [],
   "source": [
    "nx.degree_mixing_dict(G)"
   ]
  },
  {
   "cell_type": "code",
   "execution_count": null,
   "metadata": {},
   "outputs": [],
   "source": [
    "nx.attribute_mixing_dict(G, attribute='weight')"
   ]
  }
 ],
 "metadata": {
  "kernelspec": {
   "display_name": "Python 3",
   "language": "python",
   "name": "python3"
  },
  "language_info": {
   "codemirror_mode": {
    "name": "ipython",
    "version": 3
   },
   "file_extension": ".py",
   "mimetype": "text/x-python",
   "name": "python",
   "nbconvert_exporter": "python",
   "pygments_lexer": "ipython3",
   "version": "3.4.2"
  }
 },
 "nbformat": 4,
 "nbformat_minor": 1
}
