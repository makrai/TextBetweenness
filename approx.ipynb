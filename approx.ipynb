{
 "cells": [
  {
   "cell_type": "code",
   "execution_count": 1,
   "metadata": {},
   "outputs": [],
   "source": [
    "import networkx as nx"
   ]
  },
  {
   "cell_type": "code",
   "execution_count": 2,
   "metadata": {},
   "outputs": [],
   "source": [
    "G = nx.read_gpickle('/mnt/permanent/home/makrai/project/TextBetweenness/mnsz2_1k-sent.gpickle')"
   ]
  },
  {
   "cell_type": "code",
   "execution_count": 3,
   "metadata": {},
   "outputs": [],
   "source": [
    "from networkx.algorithms import approximation"
   ]
  },
  {
   "cell_type": "markdown",
   "metadata": {},
   "source": [
    "## Connectivity"
   ]
  },
  {
   "cell_type": "raw",
   "metadata": {},
   "source": [
    "approximation.all_pairs_node_connectivity(G)"
   ]
  },
  {
   "cell_type": "markdown",
   "metadata": {},
   "source": [
    "_Pairwise_ or _local node connectivity_ between two distinct and nonadjacent nodes is the minimum number of nodes that must be removed (minimum separating cutset) to disconnect them. By Menger’s theorem, this is equal to the number of node independent paths (paths that share no nodes other than source and target). Which is what we compute in this function.\n",
    "\n",
    "This algorithm is a fast approximation that gives an strict lower bound on the actual number of node independent paths between two nodes [1]. It works for both directed and undirected graphs."
   ]
  },
  {
   "cell_type": "markdown",
   "metadata": {},
   "source": [
    "## K-components\n",
    "\n",
    "not implemented for directed type\n",
    "\n",
    "A _k-component_ is a maximal subgraph of a graph G that has, at least, node connectivity k: we need to remove at least k nodes to break it into more components. k-components have an inherent hierarchical structure because they are nested in terms of connectivity: a connected graph can contain several 2-components, each of which can contain one or more 3-components, and so forth.\n",
    "\n",
    "This implementation is based on the fast heuristics to approximate the k-component sturcture of a graph [1]. Which, in turn, it is based on a fast approximation algorithm for finding good lower bounds of the number of node independent paths between two nodes [2]."
   ]
  },
  {
   "cell_type": "raw",
   "metadata": {},
   "source": [
    "approximation.k_components(G)"
   ]
  },
  {
   "cell_type": "markdown",
   "metadata": {},
   "source": [
    "## Clique"
   ]
  },
  {
   "cell_type": "markdown",
   "metadata": {},
   "source": [
    "Is it interesting for this project?"
   ]
  },
  {
   "cell_type": "raw",
   "metadata": {},
   "source": [
    "approximation.max_clique(G)"
   ]
  },
  {
   "cell_type": "markdown",
   "metadata": {},
   "source": [
    "`clique_removal(G)` \tRepeatedly remove cliques from the graph."
   ]
  },
  {
   "cell_type": "markdown",
   "metadata": {},
   "source": [
    "## Clustering\n",
    "\n",
    "Not implemented for directed graphs."
   ]
  },
  {
   "cell_type": "markdown",
   "metadata": {},
   "source": [
    "## Dominating Set\n",
    "\n",
    "* dominating set is not implemented for directed type\n",
    "* minimal weight edge dominating set is not too meaningful with these weights.\n",
    "\n",
    "A _dominating set_ for an undirected graph $G$ with vertex set $V$ and edge set $E$ is a subset $D$ of $V$ such that every vertex not in $D$ is adjacent to at least one member of $D$. \n",
    "An _edge dominating set_ is a subset $F$ of $E$ such that every edge not in $F$ is incident to an endpoint of at least one edge in $F$."
   ]
  },
  {
   "cell_type": "markdown",
   "metadata": {},
   "source": [
    "### Independent Set\n",
    "\n",
    "_Independent set_ or _stable set_ is a set of vertices in a graph, no two of which are adjacent. The maximum independent set problem is an NP-hard optimization problem."
   ]
  },
  {
   "cell_type": "markdown",
   "metadata": {},
   "source": [
    "### Matching\n",
    "\n",
    "A matching M in G is a set of pairwise non-adjacent edges; that is, no two edges share a common vertex."
   ]
  },
  {
   "cell_type": "markdown",
   "metadata": {},
   "source": [
    "### Ramsey numbers.\n",
    "### Vertex Cover\n",
    "\n",
    "Approximate minimum weight vertex cover.\n",
    "\n",
    "A _vertex cover_ is a subset of nodes such that each edge in the graph is incident to at least one node in the subset."
   ]
  },
  {
   "cell_type": "code",
   "execution_count": 25,
   "metadata": {},
   "outputs": [
    {
     "data": {
      "text/plain": [
       "4456"
      ]
     },
     "execution_count": 25,
     "metadata": {},
     "output_type": "execute_result"
    }
   ],
   "source": [
    "len(approximation.min_weighted_vertex_cover(G))"
   ]
  }
 ],
 "metadata": {
  "kernelspec": {
   "display_name": "Python 3",
   "language": "python",
   "name": "python3"
  },
  "language_info": {
   "codemirror_mode": {
    "name": "ipython",
    "version": 3
   },
   "file_extension": ".py",
   "mimetype": "text/x-python",
   "name": "python",
   "nbconvert_exporter": "python",
   "pygments_lexer": "ipython3",
   "version": "3.4.2"
  }
 },
 "nbformat": 4,
 "nbformat_minor": 2
}
